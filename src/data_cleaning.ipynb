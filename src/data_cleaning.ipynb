{
 "cells": [
  {
   "cell_type": "code",
   "execution_count": 7,
   "metadata": {
    "executionInfo": {
     "elapsed": 4848,
     "status": "ok",
     "timestamp": 1620512733831,
     "user": {
      "displayName": "Zahra Hosseini",
      "photoUrl": "https://lh3.googleusercontent.com/a-/AOh14GiEzA72nmGw903bj1O7dTY6npKw7qS-xXKCbQ7Mqw=s64",
      "userId": "18216876619172857238"
     },
     "user_tz": -270
    },
    "id": "x7tLvDVwmlHt"
   },
   "outputs": [],
   "source": [
    "from nltk.tokenize import word_tokenize\n",
    "from nltk.tokenize import sent_tokenize\n",
    "from nltk.corpus import stopwords"
   ]
  },
  {
   "cell_type": "code",
   "execution_count": 15,
   "metadata": {
    "executionInfo": {
     "elapsed": 1377,
     "status": "ok",
     "timestamp": 1620512906136,
     "user": {
      "displayName": "Zahra Hosseini",
      "photoUrl": "https://lh3.googleusercontent.com/a-/AOh14GiEzA72nmGw903bj1O7dTY6npKw7qS-xXKCbQ7Mqw=s64",
      "userId": "18216876619172857238"
     },
     "user_tz": -270
    },
    "id": "J7EPNFEOGJAg"
   },
   "outputs": [],
   "source": [
    "import matplotlib.pyplot as plt \n",
    "import seaborn as sns\n",
    "from pandas.plotting import table\n",
    "import pandas as pd\n",
    "import random as rand\n",
    "import csv\n",
    "import random as rand\n",
    "import os\n",
    "import string"
   ]
  },
  {
   "cell_type": "code",
   "execution_count": 2,
   "metadata": {
    "colab": {
     "base_uri": "https://localhost:8080/"
    },
    "executionInfo": {
     "elapsed": 58764,
     "status": "ok",
     "timestamp": 1620512788427,
     "user": {
      "displayName": "Zahra Hosseini",
      "photoUrl": "https://lh3.googleusercontent.com/a-/AOh14GiEzA72nmGw903bj1O7dTY6npKw7qS-xXKCbQ7Mqw=s64",
      "userId": "18216876619172857238"
     },
     "user_tz": -270
    },
    "id": "qDZqt08ztPbO",
    "outputId": "f25460a4-1d96-46a3-adb5-a1fa12138270"
   },
   "outputs": [
    {
     "name": "stdout",
     "output_type": "stream",
     "text": [
      "[nltk_data] Downloading collection 'all'\n",
      "[nltk_data]    | \n",
      "[nltk_data]    | Downloading package abc to /root/nltk_data...\n",
      "[nltk_data]    |   Unzipping corpora/abc.zip.\n",
      "[nltk_data]    | Downloading package alpino to /root/nltk_data...\n",
      "[nltk_data]    |   Unzipping corpora/alpino.zip.\n",
      "[nltk_data]    | Downloading package biocreative_ppi to\n",
      "[nltk_data]    |     /root/nltk_data...\n",
      "[nltk_data]    |   Unzipping corpora/biocreative_ppi.zip.\n",
      "[nltk_data]    | Downloading package brown to /root/nltk_data...\n",
      "[nltk_data]    |   Unzipping corpora/brown.zip.\n",
      "[nltk_data]    | Downloading package brown_tei to /root/nltk_data...\n",
      "[nltk_data]    |   Unzipping corpora/brown_tei.zip.\n",
      "[nltk_data]    | Downloading package cess_cat to /root/nltk_data...\n",
      "[nltk_data]    |   Unzipping corpora/cess_cat.zip.\n",
      "[nltk_data]    | Downloading package cess_esp to /root/nltk_data...\n",
      "[nltk_data]    |   Unzipping corpora/cess_esp.zip.\n",
      "[nltk_data]    | Downloading package chat80 to /root/nltk_data...\n",
      "[nltk_data]    |   Unzipping corpora/chat80.zip.\n",
      "[nltk_data]    | Downloading package city_database to\n",
      "[nltk_data]    |     /root/nltk_data...\n",
      "[nltk_data]    |   Unzipping corpora/city_database.zip.\n",
      "[nltk_data]    | Downloading package cmudict to /root/nltk_data...\n",
      "[nltk_data]    |   Unzipping corpora/cmudict.zip.\n",
      "[nltk_data]    | Downloading package comparative_sentences to\n",
      "[nltk_data]    |     /root/nltk_data...\n",
      "[nltk_data]    |   Unzipping corpora/comparative_sentences.zip.\n",
      "[nltk_data]    | Downloading package comtrans to /root/nltk_data...\n",
      "[nltk_data]    | Downloading package conll2000 to /root/nltk_data...\n",
      "[nltk_data]    |   Unzipping corpora/conll2000.zip.\n",
      "[nltk_data]    | Downloading package conll2002 to /root/nltk_data...\n",
      "[nltk_data]    |   Unzipping corpora/conll2002.zip.\n",
      "[nltk_data]    | Downloading package conll2007 to /root/nltk_data...\n",
      "[nltk_data]    | Downloading package crubadan to /root/nltk_data...\n",
      "[nltk_data]    |   Unzipping corpora/crubadan.zip.\n",
      "[nltk_data]    | Downloading package dependency_treebank to\n",
      "[nltk_data]    |     /root/nltk_data...\n",
      "[nltk_data]    |   Unzipping corpora/dependency_treebank.zip.\n",
      "[nltk_data]    | Downloading package dolch to /root/nltk_data...\n",
      "[nltk_data]    |   Unzipping corpora/dolch.zip.\n",
      "[nltk_data]    | Downloading package europarl_raw to\n",
      "[nltk_data]    |     /root/nltk_data...\n",
      "[nltk_data]    |   Unzipping corpora/europarl_raw.zip.\n",
      "[nltk_data]    | Downloading package floresta to /root/nltk_data...\n",
      "[nltk_data]    |   Unzipping corpora/floresta.zip.\n",
      "[nltk_data]    | Downloading package framenet_v15 to\n",
      "[nltk_data]    |     /root/nltk_data...\n",
      "[nltk_data]    |   Unzipping corpora/framenet_v15.zip.\n",
      "[nltk_data]    | Downloading package framenet_v17 to\n",
      "[nltk_data]    |     /root/nltk_data...\n",
      "[nltk_data]    |   Unzipping corpora/framenet_v17.zip.\n",
      "[nltk_data]    | Downloading package gazetteers to /root/nltk_data...\n",
      "[nltk_data]    |   Unzipping corpora/gazetteers.zip.\n",
      "[nltk_data]    | Downloading package genesis to /root/nltk_data...\n",
      "[nltk_data]    |   Unzipping corpora/genesis.zip.\n",
      "[nltk_data]    | Downloading package gutenberg to /root/nltk_data...\n",
      "[nltk_data]    |   Unzipping corpora/gutenberg.zip.\n",
      "[nltk_data]    | Downloading package ieer to /root/nltk_data...\n",
      "[nltk_data]    |   Unzipping corpora/ieer.zip.\n",
      "[nltk_data]    | Downloading package inaugural to /root/nltk_data...\n",
      "[nltk_data]    |   Unzipping corpora/inaugural.zip.\n",
      "[nltk_data]    | Downloading package indian to /root/nltk_data...\n",
      "[nltk_data]    |   Unzipping corpora/indian.zip.\n",
      "[nltk_data]    | Downloading package jeita to /root/nltk_data...\n",
      "[nltk_data]    | Downloading package kimmo to /root/nltk_data...\n",
      "[nltk_data]    |   Unzipping corpora/kimmo.zip.\n",
      "[nltk_data]    | Downloading package knbc to /root/nltk_data...\n",
      "[nltk_data]    | Downloading package lin_thesaurus to\n",
      "[nltk_data]    |     /root/nltk_data...\n",
      "[nltk_data]    |   Unzipping corpora/lin_thesaurus.zip.\n",
      "[nltk_data]    | Downloading package mac_morpho to /root/nltk_data...\n",
      "[nltk_data]    |   Unzipping corpora/mac_morpho.zip.\n",
      "[nltk_data]    | Downloading package machado to /root/nltk_data...\n",
      "[nltk_data]    | Downloading package masc_tagged to /root/nltk_data...\n",
      "[nltk_data]    | Downloading package moses_sample to\n",
      "[nltk_data]    |     /root/nltk_data...\n",
      "[nltk_data]    |   Unzipping models/moses_sample.zip.\n",
      "[nltk_data]    | Downloading package movie_reviews to\n",
      "[nltk_data]    |     /root/nltk_data...\n",
      "[nltk_data]    |   Unzipping corpora/movie_reviews.zip.\n",
      "[nltk_data]    | Downloading package names to /root/nltk_data...\n",
      "[nltk_data]    |   Unzipping corpora/names.zip.\n",
      "[nltk_data]    | Downloading package nombank.1.0 to /root/nltk_data...\n",
      "[nltk_data]    | Downloading package nps_chat to /root/nltk_data...\n",
      "[nltk_data]    |   Unzipping corpora/nps_chat.zip.\n",
      "[nltk_data]    | Downloading package omw to /root/nltk_data...\n",
      "[nltk_data]    |   Unzipping corpora/omw.zip.\n",
      "[nltk_data]    | Downloading package opinion_lexicon to\n",
      "[nltk_data]    |     /root/nltk_data...\n",
      "[nltk_data]    |   Unzipping corpora/opinion_lexicon.zip.\n",
      "[nltk_data]    | Downloading package paradigms to /root/nltk_data...\n",
      "[nltk_data]    |   Unzipping corpora/paradigms.zip.\n",
      "[nltk_data]    | Downloading package pil to /root/nltk_data...\n",
      "[nltk_data]    |   Unzipping corpora/pil.zip.\n",
      "[nltk_data]    | Downloading package pl196x to /root/nltk_data...\n",
      "[nltk_data]    |   Unzipping corpora/pl196x.zip.\n",
      "[nltk_data]    | Downloading package ppattach to /root/nltk_data...\n",
      "[nltk_data]    |   Unzipping corpora/ppattach.zip.\n",
      "[nltk_data]    | Downloading package problem_reports to\n",
      "[nltk_data]    |     /root/nltk_data...\n",
      "[nltk_data]    |   Unzipping corpora/problem_reports.zip.\n",
      "[nltk_data]    | Downloading package propbank to /root/nltk_data...\n",
      "[nltk_data]    | Downloading package ptb to /root/nltk_data...\n",
      "[nltk_data]    |   Unzipping corpora/ptb.zip.\n",
      "[nltk_data]    | Downloading package product_reviews_1 to\n",
      "[nltk_data]    |     /root/nltk_data...\n",
      "[nltk_data]    |   Unzipping corpora/product_reviews_1.zip.\n",
      "[nltk_data]    | Downloading package product_reviews_2 to\n",
      "[nltk_data]    |     /root/nltk_data...\n",
      "[nltk_data]    |   Unzipping corpora/product_reviews_2.zip.\n",
      "[nltk_data]    | Downloading package pros_cons to /root/nltk_data...\n",
      "[nltk_data]    |   Unzipping corpora/pros_cons.zip.\n",
      "[nltk_data]    | Downloading package qc to /root/nltk_data...\n",
      "[nltk_data]    |   Unzipping corpora/qc.zip.\n",
      "[nltk_data]    | Downloading package reuters to /root/nltk_data...\n",
      "[nltk_data]    | Downloading package rte to /root/nltk_data...\n",
      "[nltk_data]    |   Unzipping corpora/rte.zip.\n",
      "[nltk_data]    | Downloading package semcor to /root/nltk_data...\n",
      "[nltk_data]    | Downloading package senseval to /root/nltk_data...\n",
      "[nltk_data]    |   Unzipping corpora/senseval.zip.\n",
      "[nltk_data]    | Downloading package sentiwordnet to\n",
      "[nltk_data]    |     /root/nltk_data...\n",
      "[nltk_data]    |   Unzipping corpora/sentiwordnet.zip.\n",
      "[nltk_data]    | Downloading package sentence_polarity to\n",
      "[nltk_data]    |     /root/nltk_data...\n",
      "[nltk_data]    |   Unzipping corpora/sentence_polarity.zip.\n",
      "[nltk_data]    | Downloading package shakespeare to /root/nltk_data...\n",
      "[nltk_data]    |   Unzipping corpora/shakespeare.zip.\n",
      "[nltk_data]    | Downloading package sinica_treebank to\n",
      "[nltk_data]    |     /root/nltk_data...\n",
      "[nltk_data]    |   Unzipping corpora/sinica_treebank.zip.\n",
      "[nltk_data]    | Downloading package smultron to /root/nltk_data...\n",
      "[nltk_data]    |   Unzipping corpora/smultron.zip.\n",
      "[nltk_data]    | Downloading package state_union to /root/nltk_data...\n",
      "[nltk_data]    |   Unzipping corpora/state_union.zip.\n",
      "[nltk_data]    | Downloading package stopwords to /root/nltk_data...\n",
      "[nltk_data]    |   Unzipping corpora/stopwords.zip.\n",
      "[nltk_data]    | Downloading package subjectivity to\n",
      "[nltk_data]    |     /root/nltk_data...\n",
      "[nltk_data]    |   Unzipping corpora/subjectivity.zip.\n",
      "[nltk_data]    | Downloading package swadesh to /root/nltk_data...\n",
      "[nltk_data]    |   Unzipping corpora/swadesh.zip.\n",
      "[nltk_data]    | Downloading package switchboard to /root/nltk_data...\n",
      "[nltk_data]    |   Unzipping corpora/switchboard.zip.\n",
      "[nltk_data]    | Downloading package timit to /root/nltk_data...\n",
      "[nltk_data]    |   Unzipping corpora/timit.zip.\n",
      "[nltk_data]    | Downloading package toolbox to /root/nltk_data...\n",
      "[nltk_data]    |   Unzipping corpora/toolbox.zip.\n",
      "[nltk_data]    | Downloading package treebank to /root/nltk_data...\n",
      "[nltk_data]    |   Unzipping corpora/treebank.zip.\n",
      "[nltk_data]    | Downloading package twitter_samples to\n",
      "[nltk_data]    |     /root/nltk_data...\n",
      "[nltk_data]    |   Unzipping corpora/twitter_samples.zip.\n",
      "[nltk_data]    | Downloading package udhr to /root/nltk_data...\n",
      "[nltk_data]    |   Unzipping corpora/udhr.zip.\n",
      "[nltk_data]    | Downloading package udhr2 to /root/nltk_data...\n",
      "[nltk_data]    |   Unzipping corpora/udhr2.zip.\n",
      "[nltk_data]    | Downloading package unicode_samples to\n",
      "[nltk_data]    |     /root/nltk_data...\n",
      "[nltk_data]    |   Unzipping corpora/unicode_samples.zip.\n",
      "[nltk_data]    | Downloading package universal_treebanks_v20 to\n",
      "[nltk_data]    |     /root/nltk_data...\n",
      "[nltk_data]    | Downloading package verbnet to /root/nltk_data...\n",
      "[nltk_data]    |   Unzipping corpora/verbnet.zip.\n",
      "[nltk_data]    | Downloading package verbnet3 to /root/nltk_data...\n",
      "[nltk_data]    |   Unzipping corpora/verbnet3.zip.\n",
      "[nltk_data]    | Downloading package webtext to /root/nltk_data...\n",
      "[nltk_data]    |   Unzipping corpora/webtext.zip.\n",
      "[nltk_data]    | Downloading package wordnet to /root/nltk_data...\n",
      "[nltk_data]    |   Unzipping corpora/wordnet.zip.\n",
      "[nltk_data]    | Downloading package wordnet_ic to /root/nltk_data...\n",
      "[nltk_data]    |   Unzipping corpora/wordnet_ic.zip.\n",
      "[nltk_data]    | Downloading package words to /root/nltk_data...\n",
      "[nltk_data]    |   Unzipping corpora/words.zip.\n",
      "[nltk_data]    | Downloading package ycoe to /root/nltk_data...\n",
      "[nltk_data]    |   Unzipping corpora/ycoe.zip.\n",
      "[nltk_data]    | Downloading package rslp to /root/nltk_data...\n",
      "[nltk_data]    |   Unzipping stemmers/rslp.zip.\n",
      "[nltk_data]    | Downloading package maxent_treebank_pos_tagger to\n",
      "[nltk_data]    |     /root/nltk_data...\n",
      "[nltk_data]    |   Unzipping taggers/maxent_treebank_pos_tagger.zip.\n",
      "[nltk_data]    | Downloading package universal_tagset to\n",
      "[nltk_data]    |     /root/nltk_data...\n",
      "[nltk_data]    |   Unzipping taggers/universal_tagset.zip.\n",
      "[nltk_data]    | Downloading package maxent_ne_chunker to\n",
      "[nltk_data]    |     /root/nltk_data...\n",
      "[nltk_data]    |   Unzipping chunkers/maxent_ne_chunker.zip.\n",
      "[nltk_data]    | Downloading package punkt to /root/nltk_data...\n",
      "[nltk_data]    |   Unzipping tokenizers/punkt.zip.\n",
      "[nltk_data]    | Downloading package book_grammars to\n",
      "[nltk_data]    |     /root/nltk_data...\n",
      "[nltk_data]    |   Unzipping grammars/book_grammars.zip.\n",
      "[nltk_data]    | Downloading package sample_grammars to\n",
      "[nltk_data]    |     /root/nltk_data...\n",
      "[nltk_data]    |   Unzipping grammars/sample_grammars.zip.\n",
      "[nltk_data]    | Downloading package spanish_grammars to\n",
      "[nltk_data]    |     /root/nltk_data...\n",
      "[nltk_data]    |   Unzipping grammars/spanish_grammars.zip.\n",
      "[nltk_data]    | Downloading package basque_grammars to\n",
      "[nltk_data]    |     /root/nltk_data...\n",
      "[nltk_data]    |   Unzipping grammars/basque_grammars.zip.\n",
      "[nltk_data]    | Downloading package large_grammars to\n",
      "[nltk_data]    |     /root/nltk_data...\n",
      "[nltk_data]    |   Unzipping grammars/large_grammars.zip.\n",
      "[nltk_data]    | Downloading package tagsets to /root/nltk_data...\n",
      "[nltk_data]    |   Unzipping help/tagsets.zip.\n",
      "[nltk_data]    | Downloading package snowball_data to\n",
      "[nltk_data]    |     /root/nltk_data...\n",
      "[nltk_data]    | Downloading package bllip_wsj_no_aux to\n",
      "[nltk_data]    |     /root/nltk_data...\n",
      "[nltk_data]    |   Unzipping models/bllip_wsj_no_aux.zip.\n",
      "[nltk_data]    | Downloading package word2vec_sample to\n",
      "[nltk_data]    |     /root/nltk_data...\n",
      "[nltk_data]    |   Unzipping models/word2vec_sample.zip.\n",
      "[nltk_data]    | Downloading package panlex_swadesh to\n",
      "[nltk_data]    |     /root/nltk_data...\n",
      "[nltk_data]    | Downloading package mte_teip5 to /root/nltk_data...\n",
      "[nltk_data]    |   Unzipping corpora/mte_teip5.zip.\n",
      "[nltk_data]    | Downloading package averaged_perceptron_tagger to\n",
      "[nltk_data]    |     /root/nltk_data...\n",
      "[nltk_data]    |   Unzipping taggers/averaged_perceptron_tagger.zip.\n",
      "[nltk_data]    | Downloading package averaged_perceptron_tagger_ru to\n",
      "[nltk_data]    |     /root/nltk_data...\n",
      "[nltk_data]    |   Unzipping\n",
      "[nltk_data]    |       taggers/averaged_perceptron_tagger_ru.zip.\n",
      "[nltk_data]    | Downloading package perluniprops to\n",
      "[nltk_data]    |     /root/nltk_data...\n",
      "[nltk_data]    |   Unzipping misc/perluniprops.zip.\n",
      "[nltk_data]    | Downloading package nonbreaking_prefixes to\n",
      "[nltk_data]    |     /root/nltk_data...\n",
      "[nltk_data]    |   Unzipping corpora/nonbreaking_prefixes.zip.\n",
      "[nltk_data]    | Downloading package vader_lexicon to\n",
      "[nltk_data]    |     /root/nltk_data...\n",
      "[nltk_data]    | Downloading package porter_test to /root/nltk_data...\n",
      "[nltk_data]    |   Unzipping stemmers/porter_test.zip.\n",
      "[nltk_data]    | Downloading package wmt15_eval to /root/nltk_data...\n",
      "[nltk_data]    |   Unzipping models/wmt15_eval.zip.\n",
      "[nltk_data]    | Downloading package mwa_ppdb to /root/nltk_data...\n",
      "[nltk_data]    |   Unzipping misc/mwa_ppdb.zip.\n",
      "[nltk_data]    | \n",
      "[nltk_data]  Done downloading collection all\n"
     ]
    }
   ],
   "source": [
    "import nltk\n",
    "nltk.download('punkt')\n",
    "nltk.download('stopwords')"
   ]
  },
  {
   "cell_type": "markdown",
   "metadata": {
    "id": "klktDgvw3hDB"
   },
   "source": [
    "# Split into Sentences\n"
   ]
  },
  {
   "cell_type": "code",
   "execution_count": 5,
   "metadata": {
    "colab": {
     "base_uri": "https://localhost:8080/"
    },
    "executionInfo": {
     "elapsed": 5755,
     "status": "ok",
     "timestamp": 1620512874771,
     "user": {
      "displayName": "Zahra Hosseini",
      "photoUrl": "https://lh3.googleusercontent.com/a-/AOh14GiEzA72nmGw903bj1O7dTY6npKw7qS-xXKCbQ7Mqw=s64",
      "userId": "18216876619172857238"
     },
     "user_tz": -270
    },
    "id": "L-ur1U1q3gzE",
    "outputId": "1cc6e5dc-3b43-49b6-eab4-7dce8d772298"
   },
   "outputs": [
    {
     "name": "stdout",
     "output_type": "stream",
     "text": [
      "Column names are lyrics, year, lable, name\n",
      "Processed 521 lines.\n",
      "1017\n",
      "1792\n"
     ]
    }
   ],
   "source": [
    "\n",
    "sents_path = '/content/sample_data/sents.csv'\n",
    "\n",
    "sents_df = pd.DataFrame(columns=['words','lable'])\n",
    "\n",
    "lable_0=0\n",
    "lable_1=0\n",
    "import csv\n",
    "newpath = r'../data/sentences/'\n",
    "if not os.path.exists(newpath):\n",
    "    os.makedirs(newpath)\n",
    "    \n",
    "with open(newpath+'sents_1.txt', 'w',encoding=\"utf8\") as f1:\n",
    "  with open(newpath+'sents_0.txt', 'w',encoding=\"utf8\") as f0:\n",
    "      with open('../data/dataset.csv', mode='r',encoding=\"utf8\") as csv_file:\n",
    "          csv_reader = csv.DictReader(csv_file)\n",
    "          line_count = 0\n",
    "          for row in csv_reader:\n",
    "              if line_count == 0:\n",
    "                  print(f'Column names are {\", \".join(row)}')\n",
    "                  line_count += 1\n",
    "                  continue\n",
    "              sentences = sent_tokenize(row[\"lyrics\"])\n",
    "              if row[\"lable\"]==\"1\":\n",
    "                for s in sentences:\n",
    "                    lable_1+=1\n",
    "                    f1.write(f'{s}\\n')\n",
    "              elif row[\"lable\"]==\"0\":\n",
    "                for s in sentences:\n",
    "                    lable_0+=1\n",
    "                    f0.write(f'{s}\\n')\n",
    "              line_count += 1\n",
    "          print(f'Processed {line_count} lines.')\n",
    "\n",
    "print(lable_0)\n",
    "print(lable_1)"
   ]
  },
  {
   "cell_type": "markdown",
   "metadata": {
    "id": "KPB8BLiY3Dej"
   },
   "source": [
    "# Split into words (without any cleaning)\n"
   ]
  },
  {
   "cell_type": "code",
   "execution_count": 11,
   "metadata": {
    "colab": {
     "base_uri": "https://localhost:8080/"
    },
    "executionInfo": {
     "elapsed": 3530,
     "status": "ok",
     "timestamp": 1620498035462,
     "user": {
      "displayName": "Zahra Hosseini",
      "photoUrl": "https://lh3.googleusercontent.com/a-/AOh14GiEzA72nmGw903bj1O7dTY6npKw7qS-xXKCbQ7Mqw=s64",
      "userId": "18216876619172857238"
     },
     "user_tz": -270
    },
    "id": "9eMqS_FErXHi",
    "outputId": "c4a50b87-c08e-4671-c0dc-feb891fb01a9"
   },
   "outputs": [
    {
     "name": "stdout",
     "output_type": "stream",
     "text": [
      "Column names are lyrics, year, lable, name\n",
      "Processed 521 lines.\n",
      "85326\n",
      "102860\n"
     ]
    }
   ],
   "source": [
    "newpath = r'../data/words/'\n",
    "if not os.path.exists(newpath):\n",
    "    os.makedirs(newpath)\n",
    "    \n",
    "lable_0=0\n",
    "lable_1=0\n",
    "\n",
    "\n",
    "with open(newpath+'words_1.txt', 'w',encoding=\"utf8\") as f1:\n",
    "  with open(newpath+'words_0.txt', 'w',encoding=\"utf8\") as f0:\n",
    "      with open('../data/dataset.csv', mode='r',encoding=\"utf8\") as csv_file:\n",
    "          csv_reader = csv.DictReader(csv_file)\n",
    "          line_count = 0\n",
    "          for row in csv_reader:\n",
    "              if line_count == 0:\n",
    "                  print(f'Column names are {\", \".join(row)}')\n",
    "                  line_count += 1\n",
    "                  continue\n",
    "              tokens = word_tokenize(row[\"lyrics\"])\n",
    "              tokens = [w.lower() for w in tokens]\n",
    "              if row[\"lable\"]==\"1\":\n",
    "                for t in tokens:\n",
    "                    lable_1+=1\n",
    "                    f1.write(f'{t}\\n')\n",
    "              elif row[\"lable\"]==\"0\":\n",
    "                for t in tokens:\n",
    "                    lable_0+=1\n",
    "                    f0.write(f'{t}\\n')\n",
    "              line_count += 1\n",
    "          print(f'Processed {line_count} lines.')\n",
    "\n",
    "print(lable_0)\n",
    "print(lable_1)"
   ]
  },
  {
   "cell_type": "markdown",
   "metadata": {
    "id": "4hhnHTyyLA7a"
   },
   "source": [
    "# Clean words\n",
    "\n",
    "\n",
    "*   Delete punctiuaouns\n",
    "*   Delete non-alphabetic words\n",
    "*   filterout stop words\n",
    "*   stem words\n",
    "\n",
    "\n",
    "\n"
   ]
  },
  {
   "cell_type": "code",
   "execution_count": 16,
   "metadata": {
    "colab": {
     "base_uri": "https://localhost:8080/"
    },
    "executionInfo": {
     "elapsed": 7457,
     "status": "ok",
     "timestamp": 1620498603605,
     "user": {
      "displayName": "Zahra Hosseini",
      "photoUrl": "https://lh3.googleusercontent.com/a-/AOh14GiEzA72nmGw903bj1O7dTY6npKw7qS-xXKCbQ7Mqw=s64",
      "userId": "18216876619172857238"
     },
     "user_tz": -270
    },
    "id": "og9OoERDLkgD",
    "outputId": "b8059efa-374a-41c1-809f-36dcdb0cf1fd"
   },
   "outputs": [
    {
     "name": "stdout",
     "output_type": "stream",
     "text": [
      "Column names are lyrics, year, lable, name\n"
     ]
    },
    {
     "ename": "NameError",
     "evalue": "name 'PorterStemmer' is not defined",
     "output_type": "error",
     "traceback": [
      "\u001b[1;31m---------------------------------------------------------------------------\u001b[0m",
      "\u001b[1;31mNameError\u001b[0m                                 Traceback (most recent call last)",
      "\u001b[1;32m<ipython-input-16-21e358fe36d4>\u001b[0m in \u001b[0;36m<module>\u001b[1;34m\u001b[0m\n\u001b[0;32m     31\u001b[0m               \u001b[0mwords\u001b[0m \u001b[1;33m=\u001b[0m \u001b[1;33m[\u001b[0m\u001b[0mw\u001b[0m \u001b[1;32mfor\u001b[0m \u001b[0mw\u001b[0m \u001b[1;32min\u001b[0m \u001b[0mwords\u001b[0m \u001b[1;32mif\u001b[0m \u001b[1;32mnot\u001b[0m \u001b[0mw\u001b[0m \u001b[1;32min\u001b[0m \u001b[0mstop_words\u001b[0m\u001b[1;33m]\u001b[0m\u001b[1;33m\u001b[0m\u001b[1;33m\u001b[0m\u001b[0m\n\u001b[0;32m     32\u001b[0m               \u001b[1;31m# stemming of words\u001b[0m\u001b[1;33m\u001b[0m\u001b[1;33m\u001b[0m\u001b[1;33m\u001b[0m\u001b[0m\n\u001b[1;32m---> 33\u001b[1;33m               \u001b[0mporter\u001b[0m \u001b[1;33m=\u001b[0m \u001b[0mPorterStemmer\u001b[0m\u001b[1;33m(\u001b[0m\u001b[1;33m)\u001b[0m\u001b[1;33m\u001b[0m\u001b[1;33m\u001b[0m\u001b[0m\n\u001b[0m\u001b[0;32m     34\u001b[0m               \u001b[0mstemmed\u001b[0m \u001b[1;33m=\u001b[0m \u001b[1;33m[\u001b[0m\u001b[0mporter\u001b[0m\u001b[1;33m.\u001b[0m\u001b[0mstem\u001b[0m\u001b[1;33m(\u001b[0m\u001b[0mword\u001b[0m\u001b[1;33m)\u001b[0m \u001b[1;32mfor\u001b[0m \u001b[0mword\u001b[0m \u001b[1;32min\u001b[0m \u001b[0mwords\u001b[0m\u001b[1;33m]\u001b[0m\u001b[1;33m\u001b[0m\u001b[1;33m\u001b[0m\u001b[0m\n\u001b[0;32m     35\u001b[0m               \u001b[1;32mif\u001b[0m \u001b[0mrow\u001b[0m\u001b[1;33m[\u001b[0m\u001b[1;34m\"lable\"\u001b[0m\u001b[1;33m]\u001b[0m\u001b[1;33m==\u001b[0m\u001b[1;34m\"1\"\u001b[0m\u001b[1;33m:\u001b[0m\u001b[1;33m\u001b[0m\u001b[1;33m\u001b[0m\u001b[0m\n",
      "\u001b[1;31mNameError\u001b[0m: name 'PorterStemmer' is not defined"
     ]
    }
   ],
   "source": [
    "newpath = r'../data/clean_words/'\n",
    "if not os.path.exists(newpath):\n",
    "    os.makedirs(newpath)\n",
    "\n",
    "lable_0=0\n",
    "lable_1=0\n",
    "\n",
    "\n",
    "with open(newpath+'clean_Words_0.txt', 'w',encoding=\"utf8\") as f1:\n",
    "  with open(newpath+'clean_Words_1.txt', 'w',encoding=\"utf8\") as f0:\n",
    "      with open('../data/dataset.csv', mode='r',encoding=\"utf8\") as csv_file:\n",
    "          csv_reader = csv.DictReader(csv_file)\n",
    "          line_count = 0\n",
    "          for row in csv_reader:\n",
    "              if line_count == 0:\n",
    "                  print(f'Column names are {\", \".join(row)}')\n",
    "                  line_count += 1\n",
    "                  continue\n",
    "              # convert to lower case\n",
    "              tokens = word_tokenize(row[\"lyrics\"])\n",
    "              #to lower\n",
    "              tokens = [w.lower() for w in tokens]\n",
    "              #remove non-alphabet\n",
    "              table = str.maketrans('', '', string.punctuation)\n",
    "              stripped = [w.translate(table) for w in tokens]\n",
    "              words = [word for word in stripped if word.isalpha()]\n",
    "              #filter out punct\n",
    "              words = [word for word in tokens if word.isalpha()]\n",
    "              #stop words\n",
    "              stop_words = set(stopwords.words('english'))\n",
    "              words = [w for w in words if not w in stop_words]\n",
    "              # stemming of words\n",
    "              porter = PorterStemmer()\n",
    "              stemmed = [porter.stem(word) for word in words]\n",
    "              if row[\"lable\"]==\"1\":\n",
    "                for w in stemmed:\n",
    "                    lable_1+=1\n",
    "                    f1.write(f'{w}\\n')\n",
    "              elif row[\"lable\"]==\"0\":\n",
    "                for w in stemmed:\n",
    "                    lable_0+=1\n",
    "                    f0.write(f'{w}\\n')\n",
    "              words_df = words_df.append({\n",
    "                                      'words': stemmed,\n",
    "                                      'lable': row[\"lable\"]\n",
    "\n",
    "                                  }, ignore_index=True)\n",
    "              line_count += 1\n",
    "          print(f'Processed {line_count} lines.')\n",
    "\n",
    "print(lable_0)\n",
    "print(lable_1)\n",
    "words_df.to_csv(words_path, index=False)\n",
    "words_df.iloc[0]"
   ]
  },
  {
   "cell_type": "code",
   "execution_count": 55,
   "metadata": {
    "colab": {
     "base_uri": "https://localhost:8080/"
    },
    "executionInfo": {
     "elapsed": 5410,
     "status": "ok",
     "timestamp": 1620501015298,
     "user": {
      "displayName": "Zahra Hosseini",
      "photoUrl": "https://lh3.googleusercontent.com/a-/AOh14GiEzA72nmGw903bj1O7dTY6npKw7qS-xXKCbQ7Mqw=s64",
      "userId": "18216876619172857238"
     },
     "user_tz": -270
    },
    "id": "dQAMixntNtEF",
    "outputId": "f5d9bfc7-92c9-4c7b-9335-8d7cb8447637"
   },
   "outputs": [
    {
     "name": "stdout",
     "output_type": "stream",
     "text": [
      "Column names are lyrics, year, lable, name\n",
      "Processed 390 lines.\n",
      "5471\n",
      "4344\n"
     ]
    },
    {
     "data": {
      "text/plain": [
       "words    []\n",
       "lable     0\n",
       "Name: 0, dtype: object"
      ]
     },
     "execution_count": 55,
     "metadata": {
      "tags": []
     },
     "output_type": "execute_result"
    }
   ],
   "source": [
    "\n",
    "words_path = '/content/sample_data/clean_Words.csv'\n",
    "\n",
    "words_df = pd.DataFrame(columns=['words','lable'])\n",
    "\n",
    "lable_0=0\n",
    "lable_1=0\n",
    "\n",
    "unique1 = []\n",
    "unique0 = []\n",
    "with open('/content/sample_data/unique_Words_0.txt', 'w',encoding=\"utf8\") as f1:\n",
    "  with open('/content/sample_data/unique_Words_1.txt', 'w',encoding=\"utf8\") as f0:\n",
    "      with open('/content/sample_data/dataset.csv', mode='r',encoding=\"utf8\") as csv_file:\n",
    "          csv_reader = csv.DictReader(csv_file)\n",
    "          line_count = 0\n",
    "          for row in csv_reader:\n",
    "              temp1=[]\n",
    "              temp0=[]\n",
    "              if line_count == 0:\n",
    "                  print(f'Column names are {\", \".join(row)}')\n",
    "                  line_count += 1\n",
    "                  continue\n",
    "              # convert to lower case\n",
    "              tokens = word_tokenize(row[\"lyrics\"])\n",
    "              #to lower\n",
    "              #remove non-alphabet\n",
    "              table = str.maketrans('', '', string.punctuation)\n",
    "              stripped = [w.translate(table) for w in tokens]\n",
    "              words = [word for word in stripped if word.isalpha()]\n",
    "              #filter out punct\n",
    "              words = [word for word in tokens if word.isalpha()]\n",
    "              #stop words\n",
    "              stop_words = set(stopwords.words('english'))\n",
    "              words = [w for w in words if not w in stop_words]\n",
    "              # stemming of words\n",
    "              # porter = PorterStemmer()\n",
    "              # stemmed = [porter.stem(word) for word in words]\n",
    "              for word in words:\n",
    "                if row[\"lable\"]==\"1\":\n",
    "                  if word not in unique1:\n",
    "                      unique1.append(word)\n",
    "                      temp1.append(word)\n",
    "                  continue\n",
    "                if row[\"lable\"]==\"0\":\n",
    "                  if word not in unique0:\n",
    "                      unique0.append(word)\n",
    "                      temp0.append(word)\n",
    "                  continue\n",
    "\n",
    "              if row[\"lable\"]==\"1\":\n",
    "                for w in temp1:\n",
    "                    lable_1+=1\n",
    "                    f1.write(f'{w}\\n')\n",
    "              elif row[\"lable\"]==\"0\":\n",
    "                for w in temp0:\n",
    "                    lable_0+=1\n",
    "                    f0.write(f'{w}\\n')\n",
    "              words_df = words_df.append({\n",
    "                                      'words': stemmed,\n",
    "                                      'lable': row[\"lable\"]\n",
    "\n",
    "                                  }, ignore_index=True)\n",
    "              line_count += 1\n",
    "          print(f'Processed {line_count} lines.')\n",
    "\n",
    "print(lable_0)\n",
    "print(lable_1)\n",
    "words_df.to_csv(words_path, index=False)\n",
    "words_df.iloc[0]"
   ]
  }
 ],
 "metadata": {
  "colab": {
   "authorship_tag": "ABX9TyMx/ctdOSnmVtmGEw4eZi8g",
   "collapsed_sections": [],
   "name": "data_cleaning.ipynb",
   "version": ""
  },
  "kernelspec": {
   "display_name": "Python 3",
   "language": "python",
   "name": "python3"
  },
  "language_info": {
   "codemirror_mode": {
    "name": "ipython",
    "version": 3
   },
   "file_extension": ".py",
   "mimetype": "text/x-python",
   "name": "python",
   "nbconvert_exporter": "python",
   "pygments_lexer": "ipython3",
   "version": "3.7.9"
  }
 },
 "nbformat": 4,
 "nbformat_minor": 1
}
